{
 "cells": [
  {
   "cell_type": "markdown",
   "id": "c8f16956",
   "metadata": {},
   "source": [
    "# Advance Assignment-24"
   ]
  },
  {
   "cell_type": "code",
   "execution_count": 2,
   "id": "312ab306",
   "metadata": {},
   "outputs": [],
   "source": [
    "# Q1. Is it permissible to use several import statements to import the same module? What would the goal be? \n",
    "#     Can you think of a situation where it would be beneficial ?"
   ]
  },
  {
   "cell_type": "code",
   "execution_count": null,
   "id": "1e439905",
   "metadata": {},
   "outputs": [],
   "source": [
    "# Ans;\n",
    "\n",
    "Yes, it is permissible to use several import statements to import the same module. \n",
    "It is used in case when we have to import multiple functions from same module."
   ]
  },
  {
   "cell_type": "code",
   "execution_count": 3,
   "id": "49d5be16",
   "metadata": {},
   "outputs": [],
   "source": [
    "# Q2. What are some of a module's characteristics? (Name at least one.)"
   ]
  },
  {
   "cell_type": "code",
   "execution_count": null,
   "id": "4717a250",
   "metadata": {},
   "outputs": [],
   "source": [
    "# Ans;\n",
    "\n",
    "__name__ : It returns the name of the module\n",
    "__doc__  : It denotes the documentation string line written in a module code.\n",
    "__file__ : It holds the name and path of the module file from which it is loaded\n",
    "__dict__ : It returns a dictionary object of module attributes, functions and other definitions and their respective values"
   ]
  },
  {
   "cell_type": "code",
   "execution_count": 4,
   "id": "9537ee4d",
   "metadata": {},
   "outputs": [],
   "source": [
    "# Q3. Circular importing, such as when two modules import each other, can lead to dependencies and bugs that aren't visible. \n",
    "#     How can you go about creating a program that avoids mutual importing?"
   ]
  },
  {
   "cell_type": "code",
   "execution_count": null,
   "id": "c9a0fcd0",
   "metadata": {},
   "outputs": [],
   "source": [
    "# Ans;\n",
    "\n",
    "Circular importing means importing the two modules in each other. \n",
    "If suppose we are wokring in MOD1.py file and it is importing some function say F2() from some other module say MOD2.PY file or we can do vice-versa.\n",
    "What will happen is: This will give an import error.\n",
    "\n",
    "This is because when we import F2() function from module MOD2.py, then this will execute MOD2.py file and in MOD2.py file, there is another statement of importing MOD1.py module.\n",
    "\n",
    "This will result in endless loop. \n",
    "To avoid this error, we can use if __name__ == '__main__'\n",
    "\n",
    "In this function, we can't directly refer to the function in the program. \n",
    "The addition of this sentence avoids the endless loop of the program .\n",
    "We can use an if name == \"main\" block to allow or prevent parts of code from being run when the modules are imported. \n",
    "When the Python interpreter reads a file, the name variable is set as main if the module being run, or as the module's name if it is imported"
   ]
  },
  {
   "cell_type": "code",
   "execution_count": 5,
   "id": "6dbc5d39",
   "metadata": {},
   "outputs": [],
   "source": [
    "# Q4. Why is __all__ in Python ?"
   ]
  },
  {
   "cell_type": "code",
   "execution_count": null,
   "id": "e256fc34",
   "metadata": {},
   "outputs": [],
   "source": [
    "# Ans;\n",
    "\n",
    " It provides the list of all modules present in a library."
   ]
  },
  {
   "cell_type": "code",
   "execution_count": 6,
   "id": "3f103c1a",
   "metadata": {},
   "outputs": [],
   "source": [
    "# Q5. In what situation is it useful to refer to the __name__ attribute or the string __main_ _ ?"
   ]
  },
  {
   "cell_type": "code",
   "execution_count": null,
   "id": "0c94260f",
   "metadata": {},
   "outputs": [],
   "source": [
    "# Ans;\n",
    "\n",
    "During the time of execution of the code, if we want to refer the module in which we are working on, then we use __name__ attribute. \n",
    "In that case it will return the module in which we are working on.\n",
    "Suppose if the module is being imported from some other module, then name will have the name of that module from where the current module has been imported. \n",
    "The current module in which we are working is refer to the string __main __.\n",
    "\n",
    "This built-in attributes prints the name of the class, type, function, method, descriptor, or generator instance.\n",
    "\n",
    "For example, if the python interpreter is running that module (the source file) as the main program, it sets the special name variable to have a value \"main\". \n",
    "If this file is being imported from another module, name will be set to the module's name.\n"
   ]
  },
  {
   "cell_type": "code",
   "execution_count": null,
   "id": "5fc21549",
   "metadata": {},
   "outputs": [],
   "source": []
  }
 ],
 "metadata": {
  "kernelspec": {
   "display_name": "Python 3 (ipykernel)",
   "language": "python",
   "name": "python3"
  },
  "language_info": {
   "codemirror_mode": {
    "name": "ipython",
    "version": 3
   },
   "file_extension": ".py",
   "mimetype": "text/x-python",
   "name": "python",
   "nbconvert_exporter": "python",
   "pygments_lexer": "ipython3",
   "version": "3.9.12"
  }
 },
 "nbformat": 4,
 "nbformat_minor": 5
}
